{
 "cells": [
  {
   "metadata": {
    "ExecuteTime": {
     "end_time": "2024-05-26T06:05:55.578040Z",
     "start_time": "2024-05-26T06:05:55.147634Z"
    }
   },
   "cell_type": "code",
   "source": [
    "import requests\n",
    "import pandas as pd\n",
    "import pyarrow.parquet as pq\n",
    "\n",
    "# Fungsi untuk mendownload baris secara langsung\n",
    "def download_rows(offset, length):\n",
    "    url = f\"https://datasets-server.huggingface.co/rows?dataset=garythung%2Ftrashnet&config=default&split=train&offset={offset}&length={length}\"\n",
    "    response = requests.get(url)\n",
    "    if response.status_code == 200:\n",
    "        data = response.json()\n",
    "        # Cetak struktur respons JSON untuk memeriksa isinya\n",
    "        print(\"Response JSON Structure:\", data)\n",
    "        # Periksa kunci 'rows' di dalam data yang diterima\n",
    "        if 'rows' in data:\n",
    "            return data['rows']\n",
    "        else:\n",
    "            raise KeyError(\"'rows' key not found in the response JSON\")\n",
    "    else:\n",
    "        response.raise_for_status()\n",
    "\n",
    "# Fungsi untuk mendapatkan daftar split dari dataset\n",
    "def get_splits():\n",
    "    url = \"https://datasets-server.huggingface.co/splits?dataset=garythung%2Ftrashnet\"\n",
    "    response = requests.get(url)\n",
    "    if response.status_code == 200:\n",
    "        splits = response.json()\n",
    "        return splits\n",
    "    else:\n",
    "        response.raise_for_status()\n",
    "\n",
    "# Fungsi untuk mendapatkan daftar file Parquet dari dataset\n",
    "def get_parquet_files():\n",
    "    url = \"https://huggingface.co/api/datasets/garythung/trashnet/parquet/default/train\"\n",
    "    response = requests.get(url)\n",
    "    if response.status_code == 200:\n",
    "        parquet_files = response.json()\n",
    "        # Pastikan bahwa kita mengakses list dengan indeks numerik\n",
    "        return parquet_files\n",
    "    else:\n",
    "        response.raise_for_status()\n",
    "\n",
    "# Fungsi untuk membaca data dari file Parquet\n",
    "def read_parquet_file(file_url):\n",
    "    df = pd.read_parquet(file_url)\n",
    "    return df\n",
    "\n",
    "# Contoh Penggunaan\n",
    "if __name__ == \"__main__\":\n",
    "    try:\n",
    "        # Mendapatkan daftar file Parquet\n",
    "        parquet_files = get_parquet_files()\n",
    "        print(\"Parquet files:\", parquet_files)\n",
    "        \n",
    "        # Baca data dari file Parquet pertama\n",
    "        if parquet_files:\n",
    "            first_file_url = parquet_files[0]['url']  # Akses URL file Parquet pertama dengan benar\n",
    "            print(f\"Reading data from {first_file_url}\")\n",
    "            df = read_parquet_file(first_file_url)\n",
    "            print(\"Dataframe shape:\", df.shape)\n",
    "            print(df.head())\n",
    "        \n",
    "        # Mendapatkan daftar split\n",
    "        splits = get_splits()\n",
    "        print(\"Splits available:\", splits)\n",
    "        \n",
    "        # Mendownload 100 baris data dari dataset sebagai contoh\n",
    "        # Jika ingin mendownload menggunakan API rows (tidak direkomendasikan jika ukuran terlalu besar)\n",
    "        # rows = download_rows(0, 100)\n",
    "        # df_rows = pd.DataFrame(rows)\n",
    "        # print(\"Dataframe shape from rows API:\", df_rows.shape)\n",
    "    \n",
    "    except KeyError as e:\n",
    "        print(f\"Key error: {e}\")\n",
    "    except Exception as e:\n",
    "        print(f\"An error occurred: {e}\")\n"
   ],
   "id": "3ed23316edc13528",
   "outputs": [
    {
     "name": "stdout",
     "output_type": "stream",
     "text": [
      "Parquet files: ['https://huggingface.co/api/datasets/garythung/trashnet/parquet/default/train/0.parquet', 'https://huggingface.co/api/datasets/garythung/trashnet/parquet/default/train/1.parquet', 'https://huggingface.co/api/datasets/garythung/trashnet/parquet/default/train/2.parquet', 'https://huggingface.co/api/datasets/garythung/trashnet/parquet/default/train/3.parquet']\n",
      "An error occurred: string indices must be integers, not 'str'\n"
     ]
    }
   ],
   "execution_count": 12
  },
  {
   "metadata": {},
   "cell_type": "code",
   "outputs": [],
   "execution_count": null,
   "source": "",
   "id": "e4a756944179d22c"
  }
 ],
 "metadata": {
  "kernelspec": {
   "display_name": "Python 3",
   "language": "python",
   "name": "python3"
  },
  "language_info": {
   "codemirror_mode": {
    "name": "ipython",
    "version": 2
   },
   "file_extension": ".py",
   "mimetype": "text/x-python",
   "name": "python",
   "nbconvert_exporter": "python",
   "pygments_lexer": "ipython2",
   "version": "2.7.6"
  }
 },
 "nbformat": 4,
 "nbformat_minor": 5
}
